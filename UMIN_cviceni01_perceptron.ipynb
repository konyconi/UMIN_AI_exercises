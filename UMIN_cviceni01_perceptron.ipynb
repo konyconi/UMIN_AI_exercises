{
 "cells": [
  {
   "cell_type": "markdown",
   "id": "a38064db",
   "metadata": {},
   "source": [
    "# Cvičení 01 — Perceptron, lineární separabilita a XOR\n",
    "\n",
    "**Cíle cvičení**\n",
    "- Naučit se základy práce v Jupyteru (spouštění buněk, edit/command mód, klávesové zkratky).\n",
    "- Naimplementovat **jednoduchý perceptron** v `numpy` a **natrénovat jej** na datech AND/OR.\n",
    "- **Ukázat selhání na XOR** a vizualizovat rozhodovací hranici.\n",
    "- Bonus (pokud zbyde čas): použít `sklearn.neural_network.MLPClassifier` a **vyřešit XOR** dvouvrstvou sítí.\n",
    "\n",
    "> Tip: Běhejte buňky postupně shora dolů: `Shift+Enter`. Přepnutí mezi edit/command módem: `Enter` / `Esc`."
   ]
  },
  {
   "cell_type": "markdown",
   "id": "f4c4fcc7",
   "metadata": {},
   "source": [
    "## 0) Jupyter rychlostart\n",
    "- Běh buňky: **Shift+Enter**\n",
    "- Vložit novou buňku pod: **B** *(command mód)*\n",
    "- Smazat buňku: **DD** *(dvakrát D v command módu)*\n",
    "- Přepnout buňku na Markdown: **M** / na kód: **Y**"
   ]
  },
  {
   "cell_type": "code",
   "execution_count": null,
   "id": "7b7e94a9",
   "metadata": {},
   "outputs": [],
   "source": [
    "import numpy as np\n",
    "import matplotlib.pyplot as plt\n",
    "\n",
    "# užitečné nastavení tisku\n",
    "np.set_printoptions(suppress=True, linewidth=120)"
   ]
  },
  {
   "cell_type": "markdown",
   "id": "0b9bb126",
   "metadata": {},
   "source": [
    "## 1) Mini-datové sady: AND, OR, XOR"
   ]
  },
  {
   "cell_type": "code",
   "execution_count": null,
   "id": "27cb2f31",
   "metadata": {},
   "outputs": [],
   "source": [
    "# Čtyři body v {0,1}^2\n",
    "X = np.array([[0,0],\n",
    "              [0,1],\n",
    "              [1,0],\n",
    "              [1,1]], dtype=float)\n",
    "\n",
    "y_and = np.array([0,0,0,1], dtype=float)\n",
    "y_or  = np.array([0,1,1,1], dtype=float)\n",
    "y_xor = np.array([0,1,1,0], dtype=float)\n",
    "\n",
    "X"
   ]
  },
  {
   "cell_type": "markdown",
   "id": "737c0bdf",
   "metadata": {},
   "source": [
    "## 2) Jednoduchý perceptron (implementace v `numpy`)"
   ]
  },
  {
   "cell_type": "code",
   "execution_count": null,
   "id": "437e2487",
   "metadata": {},
   "outputs": [],
   "source": [
    "class Perceptron:\n",
    "    def __init__(self, lr=0.1, n_epochs=50, add_bias=True, random_state=0):\n",
    "        self.lr = lr\n",
    "        self.n_epochs = n_epochs\n",
    "        self.add_bias = add_bias\n",
    "        self.rng = np.random.default_rng(random_state)\n",
    "        self.w = None  # bude nastaveno při fit\n",
    "\n",
    "    def _add_bias(self, X):\n",
    "        if not self.add_bias:\n",
    "            return X\n",
    "        ones = np.ones((X.shape[0], 1))\n",
    "        return np.hstack([ones, X])\n",
    "\n",
    "    def predict_raw(self, X):\n",
    "        Xb = self._add_bias(X)\n",
    "        return Xb @ self.w\n",
    "\n",
    "    def predict(self, X):\n",
    "        # výstup 0/1 podle prahu 0\n",
    "        return (self.predict_raw(X) >= 0).astype(float)\n",
    "\n",
    "    def fit(self, X, y, verbose=False):\n",
    "        Xb = self._add_bias(X)\n",
    "        n_features = Xb.shape[1]\n",
    "        # malé náhodné váhy\n",
    "        self.w = self.rng.normal(scale=0.01, size=n_features)\n",
    "\n",
    "        history = []\n",
    "        for epoch in range(self.n_epochs):\n",
    "            errors = 0\n",
    "            # online učení (cyklujeme přes vzorky)\n",
    "            for xi, target in zip(X, y):\n",
    "                xb = self._add_bias(xi.reshape(1, -1))\n",
    "                y_hat = (xb @ self.w >= 0).astype(float)[0]\n",
    "                update = self.lr * (target - y_hat)\n",
    "                if update != 0:\n",
    "                    self.w += update * xb.ravel()\n",
    "                    errors += 1\n",
    "            # uložme si počet chyb za epochu\n",
    "            history.append(errors)\n",
    "            if verbose:\n",
    "                print(f\"epoch {epoch+1:02d} | errors = {errors}\")\n",
    "            # pokud už žádné chyby, můžeme skončit\n",
    "            if errors == 0:\n",
    "                break\n",
    "        return history"
   ]
  },
  {
   "cell_type": "markdown",
   "id": "41cb8de9",
   "metadata": {},
   "source": [
    "## 3) Trénink na AND a OR"
   ]
  },
  {
   "cell_type": "code",
   "execution_count": null,
   "id": "4d6add48",
   "metadata": {},
   "outputs": [],
   "source": [
    "pp_and = Perceptron(lr=0.2, n_epochs=50, random_state=1)\n",
    "hist_and = pp_and.fit(X, y_and, verbose=True)\n",
    "print(\"váhy AND:\", pp_and.w)\n",
    "print(\"predikce AND:\", pp_and.predict(X))"
   ]
  },
  {
   "cell_type": "code",
   "execution_count": null,
   "id": "f3ce7c81",
   "metadata": {},
   "outputs": [],
   "source": [
    "pp_or = Perceptron(lr=0.2, n_epochs=50, random_state=2)\n",
    "hist_or = pp_or.fit(X, y_or, verbose=True)\n",
    "print(\"váhy OR:\", pp_or.w)\n",
    "print(\"predikce OR:\", pp_or.predict(X))"
   ]
  },
  {
   "cell_type": "markdown",
   "id": "565fc94b",
   "metadata": {},
   "source": [
    "### Vizualizace rozhodovací hranice (2D)"
   ]
  },
  {
   "cell_type": "code",
   "execution_count": null,
   "id": "090d6bbd",
   "metadata": {},
   "outputs": [],
   "source": [
    "def plot_decision_boundary(model, X, y, title=\"Decision boundary\"):\n",
    "    # mřížka\n",
    "    x_min, x_max = X[:,0].min() - 0.5, X[:,0].max() + 0.5\n",
    "    y_min, y_max = X[:,1].min() - 0.5, X[:,1].max() + 0.5\n",
    "    xx, yy = np.meshgrid(np.linspace(x_min, x_max, 200),\n",
    "                         np.linspace(y_min, y_max, 200))\n",
    "    grid = np.c_[xx.ravel(), yy.ravel()]\n",
    "    zz = model.predict(grid).reshape(xx.shape)\n",
    "\n",
    "    plt.figure()\n",
    "    plt.contourf(xx, yy, zz, alpha=0.3, levels=[-0.1, 0.5, 1.1])\n",
    "    # trénovací body\n",
    "    plt.scatter(X[:,0], X[:,1], c=y, edgecolors=\"k\")\n",
    "    plt.title(title)\n",
    "    plt.xlabel(\"x1\")\n",
    "    plt.ylabel(\"x2\")\n",
    "    plt.xlim(x_min, x_max)\n",
    "    plt.ylim(y_min, y_max)\n",
    "    plt.show()\n",
    "\n",
    "plot_decision_boundary(pp_and, X, y_and, title=\"Perceptron — AND\")\n",
    "plot_decision_boundary(pp_or,  X, y_or,  title=\"Perceptron — OR\")"
   ]
  },
  {
   "cell_type": "markdown",
   "id": "6f118cf5",
   "metadata": {},
   "source": [
    "## 4) XOR: ukázka selhání perceptronu"
   ]
  },
  {
   "cell_type": "code",
   "execution_count": null,
   "id": "963a9d05",
   "metadata": {},
   "outputs": [],
   "source": [
    "pp_xor = Perceptron(lr=0.2, n_epochs=200, random_state=42)\n",
    "hist_xor = pp_xor.fit(X, y_xor, verbose=True)\n",
    "print(\"počet chyb za epochy (XOR):\", hist_xor)\n",
    "print(\"predikce XOR:\", pp_xor.predict(X))\n",
    "\n",
    "plot_decision_boundary(pp_xor, X, y_xor, title=\"Perceptron — XOR (selže)\")"
   ]
  },
  {
   "cell_type": "markdown",
   "id": "48ddf600",
   "metadata": {},
   "source": [
    "## 5) Bonus: dvouvrstvá síť (MLP) vyřeší XOR"
   ]
  },
  {
   "cell_type": "code",
   "execution_count": null,
   "id": "4245d3ae",
   "metadata": {},
   "outputs": [],
   "source": [
    "from sklearn.neural_network import MLPClassifier\n",
    "\n",
    "mlp = MLPClassifier(hidden_layer_sizes=(4,),max_iter=1000,alpha=1e-6,random_state=0)\n",
    "\n",
    "mlp.fit(X, y_xor.astype(int))\n",
    "print(\"predikce MLP na XOR:\", mlp.predict(X))\n",
    "\n",
    "class Wrapper:\n",
    "    def predict(self, X):\n",
    "        return mlp.predict(X).astype(float)\n",
    "\n",
    "plot_decision_boundary(Wrapper(), X, y_xor, title=\"MLP (2 skryté neurony) — XOR vyřešeno\")"
   ]
  }
 ],
 "metadata": {
  "language_info": {
   "name": "python"
  }
 },
 "nbformat": 4,
 "nbformat_minor": 5
}
